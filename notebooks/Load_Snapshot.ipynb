{
 "cells": [
  {
   "cell_type": "markdown",
   "metadata": {},
   "source": [
    "# Load Snapshot\n",
    "\n",
    "This notebook has instructions to create the indices of VerbCL into a running ElasticSearch instance.\n",
    "\n",
    "* Adjust the file `elastic-local.env` with the correct hostname and port.\n",
    "* Adjust the path to VerbCL.tar.xz: PATH_TO_VERBCL\n",
    "* Adjust the path where the data can be uncompressed: PATH_TO_DATA\n",
    "* Adjust the name of the new snapshot repository: REPO_NAME"
   ]
  },
  {
   "cell_type": "code",
   "execution_count": null,
   "metadata": {},
   "outputs": [],
   "source": [
    "PATH_TO_VERBCL = \"verbcl.tar.xz\"\n",
    "PATH_TO_DATA = \"/data\"\n",
    "REPO_NAME = \"verbcl_repository\"\n",
    "SNAP_NAME = \"verbcl_1.0\""
   ]
  },
  {
   "cell_type": "markdown",
   "metadata": {},
   "source": [
    "## Uncompress the Archive"
   ]
  },
  {
   "cell_type": "code",
   "execution_count": null,
   "metadata": {},
   "outputs": [],
   "source": [
    "import tarfile"
   ]
  },
  {
   "cell_type": "code",
   "execution_count": null,
   "metadata": {},
   "outputs": [],
   "source": [
    "with tarfile.open(PATH_TO_VERBCL, \"r:*\") as txz:\n",
    "    txz.extractall(PATH_TO_DATA)"
   ]
  },
  {
   "cell_type": "markdown",
   "metadata": {},
   "source": [
    "## Connect to ElasticSearch\n",
    "\n",
    "If more security is required, adjust the code. See [documentation](https://elasticsearch-py.readthedocs.io/en/v7.12.1/api.html#elasticsearch)."
   ]
  },
  {
   "cell_type": "code",
   "execution_count": null,
   "metadata": {},
   "outputs": [],
   "source": [
    "import os\n",
    "from elasticsearch import Elasticsearch"
   ]
  },
  {
   "cell_type": "code",
   "execution_count": null,
   "metadata": {},
   "outputs": [],
   "source": [
    "# More security? Adjust here\n",
    "es = Elasticsearch(host=os.getenv(\"ELASTIC_HOST\"), port=os.getenv(\"ELASTIC_PORT\"))"
   ]
  },
  {
   "cell_type": "markdown",
   "metadata": {},
   "source": [
    "## Create the Repository\n",
    "\n",
    "* Create a new snapshot repository for the ElasticSearch instance\n",
    "* Define it as a filesystem repository, pointing to the unarchived data\n",
    "* The name should not exist already"
   ]
  },
  {
   "cell_type": "code",
   "execution_count": null,
   "metadata": {},
   "outputs": [],
   "source": [
    "es.snapshot.create_repository(\n",
    "    repository=REPO_NAME, \n",
    "    body={\n",
    "        \"type\": \"fs\", \n",
    "        \"settings\": {\n",
    "            \"location\": os.path.join(PATH_TO_DATA, \"VerbCL\"),\n",
    "            \"compressed\": True\n",
    "        }\n",
    "    }\n",
    ")"
   ]
  },
  {
   "cell_type": "markdown",
   "metadata": {},
   "source": [
    "## Restore the Indices\n",
    "\n",
    "**At this stage, indices will be created within the instances**\n",
    "* `verbcl_opinions`\n",
    "* `verbcl_citation_graph`\n",
    "* `verbcl_highlights`"
   ]
  },
  {
   "cell_type": "code",
   "execution_count": null,
   "metadata": {},
   "outputs": [],
   "source": [
    "es.snapshot.restore(repository=REPO_NAME, snapshot=SNAP_NAME)"
   ]
  },
  {
   "cell_type": "markdown",
   "metadata": {},
   "source": [
    "Wait for completion of the restore task..."
   ]
  },
  {
   "cell_type": "code",
   "execution_count": null,
   "metadata": {},
   "outputs": [],
   "source": [
    "for idx in [\"verbcl_opinions\", \"verbcl_citation_graph\", \"verbcl_highlights\"]:\n",
    "    assert es.indices.exists(idx), f\"ERROR: {idx} does not exist\""
   ]
  },
  {
   "cell_type": "code",
   "execution_count": null,
   "metadata": {},
   "outputs": [],
   "source": []
  }
 ],
 "metadata": {
  "kernelspec": {
   "display_name": "Python 3",
   "language": "python",
   "name": "python3"
  },
  "language_info": {
   "codemirror_mode": {
    "name": "ipython",
    "version": 3
   },
   "file_extension": ".py",
   "mimetype": "text/x-python",
   "name": "python",
   "nbconvert_exporter": "python",
   "pygments_lexer": "ipython3",
   "version": "3.7.3"
  }
 },
 "nbformat": 4,
 "nbformat_minor": 2
}
