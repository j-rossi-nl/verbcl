{
 "cells": [
  {
   "cell_type": "markdown",
   "metadata": {},
   "source": [
    "# TUTORIAL\n",
    "\n",
    "In this notebook, we will show how to access the documents in the different VerbCL collections:\n",
    "* VerbCL Opinions\n",
    "* VerbCL CitationGraph\n",
    "* VerbCL Highlights\n",
    "\n",
    "We access ElasticSearch through the module `elasticsearch-dsl`, refer to the [Documentation](https://elasticsearch-dsl.readthedocs.io/en/latest/) for more information. All the ElasticSearch queries are available through this module.\n",
    "\n",
    "The documents are described in the file `utils/elastic.py` as the classes `OpinionDocument`, `OpinionCitationGraph` and `OpinionSentence`."
   ]
  },
  {
   "cell_type": "code",
   "execution_count": null,
   "metadata": {},
   "outputs": [],
   "source": [
    "import sys\n",
    "sys.path.append('../')"
   ]
  },
  {
   "cell_type": "code",
   "execution_count": null,
   "metadata": {},
   "outputs": [],
   "source": [
    "import pandas as pd\n",
    "\n",
    "from utils import elastic_init\n",
    "from utils import OpinionCitationGraph, OpinionSentence, OpinionDocument\n",
    "\n",
    "from elasticsearch_dsl import connections"
   ]
  },
  {
   "cell_type": "code",
   "execution_count": null,
   "metadata": {},
   "outputs": [],
   "source": [
    "pd.set_option(\"display.max_colwidth\", None)"
   ]
  },
  {
   "cell_type": "markdown",
   "metadata": {},
   "source": [
    "# Connect to ElasticSearch\n",
    "\n",
    "Adjust the environment variables in the file `elastic_local.env`"
   ]
  },
  {
   "cell_type": "code",
   "execution_count": null,
   "metadata": {},
   "outputs": [],
   "source": [
    "alias = elastic_init(\"elastic-local.env\")\n",
    "print(alias)"
   ]
  },
  {
   "cell_type": "code",
   "execution_count": null,
   "metadata": {},
   "outputs": [],
   "source": [
    "OPINION_ID = 1239944"
   ]
  },
  {
   "cell_type": "markdown",
   "metadata": {},
   "source": [
    "# VerbCL Opinions\n",
    "\n",
    "We will retrieve the opinion 1239944 used as an example in the paper."
   ]
  },
  {
   "cell_type": "code",
   "execution_count": null,
   "metadata": {},
   "outputs": [],
   "source": [
    "s = OpinionDocument.search(using=alias).query(\"match\", opinion_id=OPINION_ID)"
   ]
  },
  {
   "cell_type": "code",
   "execution_count": null,
   "metadata": {},
   "outputs": [],
   "source": [
    "assert s.count() == 1"
   ]
  },
  {
   "cell_type": "code",
   "execution_count": null,
   "metadata": {},
   "outputs": [],
   "source": [
    "retrieved = list(s.scan())"
   ]
  },
  {
   "cell_type": "code",
   "execution_count": null,
   "metadata": {},
   "outputs": [],
   "source": [
    "opinion = retrieved[0]"
   ]
  },
  {
   "cell_type": "code",
   "execution_count": null,
   "metadata": {},
   "outputs": [],
   "source": [
    "print(opinion.raw_text)"
   ]
  },
  {
   "cell_type": "markdown",
   "metadata": {},
   "source": [
    "# VerbCL Citation Graph\n",
    "\n",
    "We will retrieve all the opinions that cite this opinion 1239944."
   ]
  },
  {
   "cell_type": "code",
   "execution_count": null,
   "metadata": {},
   "outputs": [],
   "source": [
    "s = OpinionCitationGraph.search(using=alias).query(\"match\", cited_opinion_id=OPINION_ID).filter(\"range\", score={\"gt\": -1})\n",
    "scan = s.scan()"
   ]
  },
  {
   "cell_type": "code",
   "execution_count": null,
   "metadata": {},
   "outputs": [],
   "source": [
    "citings = pd.DataFrame([r.to_dict() for r in scan])"
   ]
  },
  {
   "cell_type": "code",
   "execution_count": null,
   "metadata": {},
   "outputs": [],
   "source": [
    "citings"
   ]
  },
  {
   "cell_type": "markdown",
   "metadata": {},
   "source": [
    "# VerbCL Highlights\n",
    "\n",
    "We will retrieve all the highlights from opion 1239944."
   ]
  },
  {
   "cell_type": "code",
   "execution_count": null,
   "metadata": {},
   "outputs": [],
   "source": [
    "s = OpinionSentence.search(using=alias).query(\"match\", opinion_id=OPINION_ID).query(\"match\", highlight=True)\n",
    "scan = s.scan()"
   ]
  },
  {
   "cell_type": "code",
   "execution_count": null,
   "metadata": {},
   "outputs": [],
   "source": [
    "highlights = pd.DataFrame([r.to_dict() for r in scan])"
   ]
  },
  {
   "cell_type": "code",
   "execution_count": null,
   "metadata": {},
   "outputs": [],
   "source": [
    "highlights[['sentence_id', 'count_citations', 'raw_text']]"
   ]
  },
  {
   "cell_type": "code",
   "execution_count": null,
   "metadata": {},
   "outputs": [],
   "source": []
  }
 ],
 "metadata": {
  "kernelspec": {
   "display_name": "Python 3",
   "language": "python",
   "name": "python3"
  },
  "language_info": {
   "codemirror_mode": {
    "name": "ipython",
    "version": 3
   },
   "file_extension": ".py",
   "mimetype": "text/x-python",
   "name": "python",
   "nbconvert_exporter": "python",
   "pygments_lexer": "ipython3",
   "version": "3.7.5"
  }
 },
 "nbformat": 4,
 "nbformat_minor": 4
}
